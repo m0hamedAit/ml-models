{
 "cells": [
  {
   "cell_type": "code",
   "execution_count": 190,
   "metadata": {},
   "outputs": [],
   "source": [
    "import numpy as np\n",
    "from random import randint, seed\n",
    "import matplotlib.pyplot as plt"
   ]
  },
  {
   "cell_type": "code",
   "execution_count": 191,
   "metadata": {},
   "outputs": [],
   "source": [
    "# Constants\n",
    "N_villes = 10 # nombre de villes\n",
    "M = N_villes  # nombre de fourmis\n",
    "N_iterations = N_villes  # nombres d'itération dans chaque cycle\n",
    "C = 0.2  # valeur initial de phéromones\n",
    "e = 0.5 # vitesse d'evaporation\n",
    "# alpha & beta controlent l'importance relative entre les phéromones et visibilité\n",
    "alpha = 1 \n",
    "beta = 5\n",
    "Q = 100 # Quantité de pheromones ?!\n",
    "NCmax = 20 # nombre max de cycles"
   ]
  },
  {
   "cell_type": "code",
   "execution_count": 219,
   "metadata": {},
   "outputs": [
    {
     "name": "stdout",
     "output_type": "stream",
     "text": [
      "Ant created ! \n",
      "Ant created ! \n",
      "Ant created ! \n",
      "Ant created ! \n",
      "Ant created ! \n",
      "Ant created ! \n",
      "Ant created ! \n",
      "Ant created ! \n",
      "Ant created ! \n",
      "Ant created ! \n"
     ]
    },
    {
     "data": {
      "image/png": "[encoded data removed]",
      "text/plain": [
       "<Figure size 432x288 with 1 Axes>"
      ]
     },
     "metadata": {
      "needs_background": "light"
     },
     "output_type": "display_data"
    }
   ],
   "source": [
    "# initialization\n",
    "seed(30)\n",
    "cities = np.array([[randint(0,1000), randint(0,1000)] for _ in range(N_villes)])  # generate N cities\n",
    "plt.scatter(cities[:,0], cities[:,1])\n",
    "U = np.array([[ calcul_distance(cities[i], cities[j]) for i in range(N_villes)] for j in range(N_villes)])   # distances entre les villes\n",
    "taux = np.array([[0 if i==j else C for i in range(N_villes)] for j in range(N_villes)])  # quantité de phéromones déposé entre villes\n",
    "Visibility = np.array([[0 if U[i,j]==0 else 1/U[i,j] for j in range(N_villes)] for i in range(N_villes)])  # visibility entre villes = 1/U\n",
    "ants = [Ant() for i in range(N_villes)]  # ants\n",
    "#U.view()\n",
    "#Taux.view()\n",
    "#Visibility.view()"
   ]
  },
  {
   "cell_type": "code",
   "execution_count": 220,
   "metadata": {},
   "outputs": [],
   "source": [
    "class Ant:\n",
    "\n",
    "  def __init__(self):\n",
    "    self.memory = []  # contains visited cities\n",
    "    print(\"Ant created ! \")\n",
    "  \n",
    "  def clear_memory(self):\n",
    "    self.memory = []\n",
    "    \n",
    "  def city_visited(self,city):\n",
    "    self.memory.append(city)\n",
    "    \n",
    "  def calcul_probability(self):  # probabilité de choisir une ville\n",
    "    current_city = self.memory[-1]  # get current city\n",
    "    s = np.sum(0 if j in self.memory else (taux[current_city, j]**alpha) * (Visibility[current_city, j]**beta) for j in range(N_villes)) \n",
    "    probability = np.array([0 if j in self.memory else (taux[current_city, j]**alpha) * (Visibility[current_city, j]**beta)/s for j in range(N_villes)])\n",
    "    \n",
    "    return probability\n",
    "  \n",
    "  def parcoured_distance(self):\n",
    "    distances = np.array([U[self.memory[i-1],self.memory[i]] for i in range(1,len(self.memory))] ) # list des distances entre les villes parcourus par la ant\n",
    "    parcoured_dist = distances.sum()\n",
    "    print(f\"sum : {parcoured_dist}\")\n",
    "    \n",
    "    return parcoured_dist\n",
    "  \n",
    "  def calcul_deposed_pheromones(self):  # caluler la quantité de pheromones déposé par une ant\n",
    "    deposed_pheromones = np.zeros((N_villes, N_villes))\n",
    "    for i in range(1,len(self.memory)) : \n",
    "      deposed_pheromones[self.memory[i-1],self.memory[i]] = Q / self.parcoured_distance()\n",
    "      \n",
    "    return deposed_pheromones\n",
    "  \n",
    "  def show_visited_cities(self):\n",
    "    print(f\" - {city}\" for city in self.memory)\n",
    "    "
   ]
  },
  {
   "cell_type": "code",
   "execution_count": 221,
   "metadata": {},
   "outputs": [],
   "source": [
    "def calcul_distance(city1, city2):\n",
    "  return np.sqrt(np.power(city1[0]- city2[0], 2) + np.power(city1[1] - city2[1], 2))"
   ]
  },
  {
   "cell_type": "code",
   "execution_count": 222,
   "metadata": {},
   "outputs": [],
   "source": [
    "def update_pheromones(): # update pheromones\n",
    "  sum_deposed_pheromones = np.zeros((N_villes, N_villes))   # sum deposed \n",
    "  for ant in ants:\n",
    "    sum_deposed_pheromones += ant.calcul_deposed_pheromones()\n",
    "  t = e*taux + sum_deposed_pheromones  # ?? \n",
    "  return t"
   ]
  },
  {
   "cell_type": "code",
   "execution_count": 223,
   "metadata": {},
   "outputs": [],
   "source": [
    "def get_pheromones():\n",
    "  return taux"
   ]
  },
  {
   "cell_type": "code",
   "execution_count": 224,
   "metadata": {},
   "outputs": [
    {
     "name": "stdout",
     "output_type": "stream",
     "text": [
      "1 -- [0, 3]\n",
      "1 -- [1, 8]\n",
      "1 -- [2, 9]\n",
      "1 -- [3, 0]\n",
      "1 -- [4, 0]\n",
      "1 -- [5, 6]\n",
      "1 -- [6, 1]\n",
      "1 -- [7, 6]\n",
      "1 -- [8, 9]\n",
      "1 -- [9, 8]\n",
      "2 -- [0, 3, 1]\n",
      "2 -- [1, 8, 9]\n",
      "2 -- [2, 9, 8]\n",
      "2 -- [3, 0, 1]\n",
      "2 -- [4, 0, 3]\n",
      "2 -- [5, 6, 1]\n",
      "2 -- [6, 1, 8]\n",
      "2 -- [7, 6, 1]\n",
      "2 -- [8, 9, 2]\n",
      "2 -- [9, 8, 2]\n",
      "3 -- [0, 3, 1, 8]\n",
      "3 -- [1, 8, 9, 2]\n",
      "3 -- [2, 9, 8, 1]\n",
      "3 -- [3, 0, 1, 8]\n",
      "3 -- [4, 0, 3, 1]\n",
      "3 -- [5, 6, 1, 8]\n",
      "3 -- [6, 1, 8, 9]\n",
      "3 -- [7, 6, 1, 8]\n",
      "3 -- [8, 9, 2, 1]\n",
      "3 -- [9, 8, 2, 1]\n",
      "4 -- [0, 3, 1, 8, 9]\n",
      "4 -- [1, 8, 9, 2, 4]\n",
      "4 -- [2, 9, 8, 1, 6]\n",
      "4 -- [3, 0, 1, 8, 9]\n",
      "4 -- [4, 0, 3, 1, 8]\n",
      "4 -- [5, 6, 1, 8, 9]\n",
      "4 -- [6, 1, 8, 9, 2]\n",
      "4 -- [7, 6, 1, 8, 9]\n",
      "4 -- [8, 9, 2, 1, 6]\n",
      "4 -- [9, 8, 2, 1, 6]\n",
      "5 -- [0, 3, 1, 8, 9, 2]\n",
      "5 -- [1, 8, 9, 2, 4, 0]\n",
      "5 -- [2, 9, 8, 1, 6, 7]\n",
      "5 -- [3, 0, 1, 8, 9, 2]\n",
      "5 -- [4, 0, 3, 1, 8, 9]\n",
      "5 -- [5, 6, 1, 8, 9, 2]\n",
      "5 -- [6, 1, 8, 9, 2, 4]\n",
      "5 -- [7, 6, 1, 8, 9, 2]\n",
      "5 -- [8, 9, 2, 1, 6, 7]\n",
      "5 -- [9, 8, 2, 1, 6, 7]\n",
      "6 -- [0, 3, 1, 8, 9, 2, 4]\n",
      "6 -- [1, 8, 9, 2, 4, 0, 3]\n",
      "6 -- [2, 9, 8, 1, 6, 7, 5]\n",
      "6 -- [3, 0, 1, 8, 9, 2, 4]\n",
      "6 -- [4, 0, 3, 1, 8, 9, 2]\n",
      "6 -- [5, 6, 1, 8, 9, 2, 4]\n",
      "6 -- [6, 1, 8, 9, 2, 4, 0]\n",
      "6 -- [7, 6, 1, 8, 9, 2, 4]\n",
      "6 -- [8, 9, 2, 1, 6, 7, 5]\n",
      "6 -- [9, 8, 2, 1, 6, 7, 5]\n",
      "7 -- [0, 3, 1, 8, 9, 2, 4, 6]\n",
      "7 -- [1, 8, 9, 2, 4, 0, 3, 6]\n",
      "7 -- [2, 9, 8, 1, 6, 7, 5, 0]\n",
      "7 -- [3, 0, 1, 8, 9, 2, 4, 6]\n",
      "7 -- [4, 0, 3, 1, 8, 9, 2, 6]\n",
      "7 -- [5, 6, 1, 8, 9, 2, 4, 0]\n",
      "7 -- [6, 1, 8, 9, 2, 4, 0, 3]\n",
      "7 -- [7, 6, 1, 8, 9, 2, 4, 0]\n",
      "7 -- [8, 9, 2, 1, 6, 7, 5, 0]\n",
      "7 -- [9, 8, 2, 1, 6, 7, 5, 0]\n",
      "8 -- [0, 3, 1, 8, 9, 2, 4, 6, 7]\n",
      "8 -- [1, 8, 9, 2, 4, 0, 3, 6, 7]\n",
      "8 -- [2, 9, 8, 1, 6, 7, 5, 0, 3]\n",
      "8 -- [3, 0, 1, 8, 9, 2, 4, 6, 7]\n",
      "8 -- [4, 0, 3, 1, 8, 9, 2, 6, 7]\n",
      "8 -- [5, 6, 1, 8, 9, 2, 4, 0, 3]\n",
      "8 -- [6, 1, 8, 9, 2, 4, 0, 3, 7]\n",
      "8 -- [7, 6, 1, 8, 9, 2, 4, 0, 3]\n",
      "8 -- [8, 9, 2, 1, 6, 7, 5, 0, 3]\n",
      "8 -- [9, 8, 2, 1, 6, 7, 5, 0, 3]\n",
      "9 -- [0, 3, 1, 8, 9, 2, 4, 6, 7, 5]\n",
      "9 -- [1, 8, 9, 2, 4, 0, 3, 6, 7, 5]\n",
      "9 -- [2, 9, 8, 1, 6, 7, 5, 0, 3, 4]\n",
      "9 -- [3, 0, 1, 8, 9, 2, 4, 6, 7, 5]\n",
      "9 -- [4, 0, 3, 1, 8, 9, 2, 6, 7, 5]\n",
      "9 -- [5, 6, 1, 8, 9, 2, 4, 0, 3, 7]\n",
      "9 -- [6, 1, 8, 9, 2, 4, 0, 3, 7, 5]\n",
      "9 -- [7, 6, 1, 8, 9, 2, 4, 0, 3, 5]\n",
      "9 -- [8, 9, 2, 1, 6, 7, 5, 0, 3, 4]\n",
      "9 -- [9, 8, 2, 1, 6, 7, 5, 0, 3, 4]\n",
      "sum : 2824.151428299831\n",
      "sum : 2656.175707591437\n",
      "sum : 2911.663132648333\n",
      "sum : 2716.694501562382\n",
      "sum : 2602.7519348040023\n",
      "sum : 2708.8481044182226\n",
      "sum : 2746.415678617487\n",
      "sum : 2881.1589491420095\n",
      "sum : 2915.6348785902774\n",
      "sum : 2983.4252768588017\n",
      "sum : 2824.151428299831\n",
      "sum : 2824.151428299831\n",
      "sum : 2824.151428299831\n",
      "sum : 2824.151428299831\n",
      "sum : 2824.151428299831\n",
      "sum : 2824.151428299831\n",
      "sum : 2824.151428299831\n",
      "sum : 2824.151428299831\n",
      "sum : 2824.151428299831\n",
      "sum : 2656.175707591437\n",
      "sum : 2656.175707591437\n",
      "sum : 2656.175707591437\n",
      "sum : 2656.175707591437\n",
      "sum : 2656.175707591437\n",
      "sum : 2656.175707591437\n",
      "sum : 2656.175707591437\n",
      "sum : 2656.175707591437\n",
      "sum : 2656.175707591437\n",
      "sum : 2911.663132648333\n",
      "sum : 2911.663132648333\n",
      "sum : 2911.663132648333\n",
      "sum : 2911.663132648333\n",
      "sum : 2911.663132648333\n",
      "sum : 2911.663132648333\n",
      "sum : 2911.663132648333\n",
      "sum : 2911.663132648333\n",
      "sum : 2911.663132648333\n",
      "sum : 2716.694501562382\n",
      "sum : 2716.694501562382\n",
      "sum : 2716.694501562382\n",
      "sum : 2716.694501562382\n",
      "sum : 2716.694501562382\n",
      "sum : 2716.694501562382\n",
      "sum : 2716.694501562382\n",
      "sum : 2716.694501562382\n",
      "sum : 2716.694501562382\n",
      "sum : 2602.7519348040023\n",
      "sum : 2602.7519348040023\n",
      "sum : 2602.7519348040023\n",
      "sum : 2602.7519348040023\n",
      "sum : 2602.7519348040023\n",
      "sum : 2602.7519348040023\n",
      "sum : 2602.7519348040023\n",
      "sum : 2602.7519348040023\n",
      "sum : 2602.7519348040023\n",
      "sum : 2708.8481044182226\n",
      "sum : 2708.8481044182226\n",
      "sum : 2708.8481044182226\n",
      "sum : 2708.8481044182226\n",
      "sum : 2708.8481044182226\n",
      "sum : 2708.8481044182226\n",
      "sum : 2708.8481044182226\n",
      "sum : 2708.8481044182226\n",
      "sum : 2708.8481044182226\n",
      "sum : 2746.415678617487\n",
      "sum : 2746.415678617487\n",
      "sum : 2746.415678617487\n",
      "sum : 2746.415678617487\n",
      "sum : 2746.415678617487\n",
      "sum : 2746.415678617487\n",
      "sum : 2746.415678617487\n",
      "sum : 2746.415678617487\n",
      "sum : 2746.415678617487\n",
      "sum : 2881.1589491420095\n",
      "sum : 2881.1589491420095\n",
      "sum : 2881.1589491420095\n",
      "sum : 2881.1589491420095\n",
      "sum : 2881.1589491420095\n",
      "sum : 2881.1589491420095\n",
      "sum : 2881.1589491420095\n",
      "sum : 2881.1589491420095\n",
      "sum : 2881.1589491420095\n",
      "sum : 2915.6348785902774\n",
      "sum : 2915.6348785902774\n",
      "sum : 2915.6348785902774\n",
      "sum : 2915.6348785902774\n",
      "sum : 2915.6348785902774\n",
      "sum : 2915.6348785902774\n",
      "sum : 2915.6348785902774\n",
      "sum : 2915.6348785902774\n",
      "sum : 2915.6348785902774\n",
      "sum : 2983.4252768588017\n",
      "sum : 2983.4252768588017\n",
      "sum : 2983.4252768588017\n",
      "sum : 2983.4252768588017\n",
      "sum : 2983.4252768588017\n",
      "sum : 2983.4252768588017\n",
      "sum : 2983.4252768588017\n",
      "sum : 2983.4252768588017\n",
      "sum : 2983.4252768588017\n"
     ]
    },
    {
     "name": "stderr",
     "output_type": "stream",
     "text": [
      "C:\\Users\\MHD\\AppData\\Local\\Temp\\ipykernel_3636\\3490546569.py:15: DeprecationWarning: Calling np.sum(generator) is deprecated, and in the future will give a different result. Use np.sum(np.fromiter(generator)) or the python sum builtin instead.\n",
      "  s = np.sum(0 if j in self.memory else (taux[current_city, j]**alpha) * (Visibility[current_city, j]**beta) for j in range(N_villes))\n"
     ]
    }
   ],
   "source": [
    "n_cycle = 0\n",
    "m = None  # min parcoured_distance\n",
    "best_path = []  # best path\n",
    "while n_cycle < NCmax :\n",
    "  for it in range(N_iterations):\n",
    "    # first iteration in the first cycle\n",
    "    if it == 0 :  \n",
    "      # each ant will start from a city randomly (we can use algo like Fisher-Yates shuffle)\n",
    "      for i, ant in enumerate(ants) :   # we use i because in our case, cities & ants are known only by their indexes (0...N_villes-1)\n",
    "        ant.city_visited(i)    # ant i will begun from city i\n",
    "    \n",
    "    else :\n",
    "      #choose path based on \n",
    "      for i, ant in enumerate(ants):\n",
    "        next_city = np.argmax(ant.calcul_probability())   # indice of city with bigest probability\n",
    "        ant.city_visited(next_city) \n",
    "        print(f\"{it} -- {ant.memory}\")\n",
    "  \n",
    "  # end of each cycle\n",
    "  for ant in ants :\n",
    "    distance = ant.parcoured_distance()\n",
    "    if not m or m > distance :\n",
    "      m = distance\n",
    "      best_path = ant.memory\n",
    "    \n",
    "    # update probabilities \n",
    "    \n",
    "  \n",
    "    # update pheromones\n",
    "  old_taux = get_pheromones()   # memorize Taux(t)\n",
    "  new_taux = update_pheromones()  # update Taux(t) to Taux(t+1)\n",
    "  if(old_taux.all() == new_taux.all()):\n",
    "    break;\n",
    "  \n",
    "  for ant in ants:\n",
    "    ant.clear_memory()\n",
    "    "
   ]
  },
  {
   "cell_type": "code",
   "execution_count": 225,
   "metadata": {},
   "outputs": [
    {
     "name": "stdout",
     "output_type": "stream",
     "text": [
      "[4, 0, 3, 1, 8, 9, 2, 6, 7, 5]\n"
     ]
    }
   ],
   "source": [
    "print(best_path)"
   ]
  },
  {
   "cell_type": "code",
   "execution_count": 226,
   "metadata": {},
   "outputs": [
    {
     "name": "stdout",
     "output_type": "stream",
     "text": [
      "[[ 215 1000]\n",
      " [ 552  827]\n",
      " [ 669  846]\n",
      " [ 296  625]\n",
      " [  83  472]\n",
      " [   7  534]\n",
      " [  30  636]\n",
      " [ 406  385]\n",
      " [ 656  137]\n",
      " [ 263   49]]\n"
     ]
    },
    {
     "data": {
      "image/png": "[encoded data removed]",
      "text/plain": [
       "<Figure size 432x288 with 1 Axes>"
      ]
     },
     "metadata": {
      "needs_background": "light"
     },
     "output_type": "display_data"
    }
   ],
   "source": [
    "\n",
    "ordered_cities = cities[best_path]\n",
    "\n",
    "print(ordered_cities)\n",
    "plt.plot(ordered_cities[:,0],ordered_cities[:,1], color=\"green\")\n",
    "plt.scatter(cities[:,0], cities[:,1], color=\"red\")\n",
    "plt.show()"
   ]
  },
  {
   "cell_type": "code",
   "execution_count": null,
   "metadata": {},
   "outputs": [],
   "source": []
  }
 ],
 "metadata": {
  "interpreter": {
   "hash": "81794d4967e6c3204c66dcd87b604927b115b27c00565d3d43f05ba2f3a2cb0d"
  },
  "kernelspec": {
   "display_name": "Python 3.9.2 64-bit",
   "language": "python",
   "name": "python3"
  },
  "language_info": {
   "codemirror_mode": {
    "name": "ipython",
    "version": 3
   },
   "file_extension": ".py",
   "mimetype": "text/x-python",
   "name": "python",
   "nbconvert_exporter": "python",
   "pygments_lexer": "ipython3",
   "version": "3.9.2"
  },
  "orig_nbformat": 4
 },
 "nbformat": 4,
 "nbformat_minor": 2
}
