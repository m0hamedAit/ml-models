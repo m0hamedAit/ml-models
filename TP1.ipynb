{
 "cells": [
  {
   "cell_type": "markdown",
   "id": "23662a66",
   "metadata": {},
   "source": [
    "### Régression Lineaire"
   ]
  },
  {
   "cell_type": "code",
   "execution_count": 5,
   "id": "6f36e7d1",
   "metadata": {},
   "outputs": [],
   "source": [
    "#Import packages\n",
    "import numpy as np\n",
    "import matplotlib.pyplot as plt\n"
   ]
  },
  {
   "cell_type": "code",
   "execution_count": 55,
   "id": "2936a429",
   "metadata": {},
   "outputs": [],
   "source": [
    "np.random.seed(1)\n",
    "\n",
    "def f(m):\n",
    "    return 2*m+1+ np.random.random()\n",
    "\n",
    "\n",
    "def generateData(n):\n",
    "    data = []\n",
    "    for i in range(n):\n",
    "        x = i\n",
    "        y = f(i)\n",
    "        data.append([x , y])\n",
    "    \n",
    "    return np.array(data)"
   ]
  },
  {
   "cell_type": "code",
   "execution_count": 65,
   "id": "5c5caefa",
   "metadata": {},
   "outputs": [],
   "source": [
    "data = generateData(20)\n",
    "x = data[:,0]\n",
    "y = data[:,1]"
   ]
  },
  {
   "cell_type": "code",
   "execution_count": 66,
   "id": "fe4d31af",
   "metadata": {},
   "outputs": [],
   "source": [
    "#data2 = np.array([[i, 2*i+1] for i in range(20)])\n",
    "#x2 = data2[:,0]\n",
    "#y2 = data2[:,1]"
   ]
  },
  {
   "cell_type": "code",
   "execution_count": 122,
   "id": "a2fb332c",
   "metadata": {},
   "outputs": [
    {
     "data": {
      "text/plain": [
       "<matplotlib.collections.PathCollection at 0x17962c5afa0>"
      ]
     },
     "execution_count": 122,
     "metadata": {},
     "output_type": "execute_result"
    },
    {
     "data": {
      "image/png": "[encoded data removed]",
      "text/plain": [
       "<Figure size 432x288 with 1 Axes>"
      ]
     },
     "metadata": {
      "needs_background": "light"
     },
     "output_type": "display_data"
    }
   ],
   "source": [
    "plt.scatter(x,y)\n",
    "#plt.plot(x2,y2, color=\"r*\")"
   ]
  },
  {
   "cell_type": "code",
   "execution_count": 125,
   "id": "11953834",
   "metadata": {},
   "outputs": [],
   "source": [
    "# chercher parametres du modèle\n",
    "def fit(x,y):\n",
    "    a = np.cov(x,y)[0,1]/np.var(x)    #cov return matice(cov(x,x), cov(x,y), cov(y,x), cov(y,y))\n",
    "    b = np.mean(y) - a * np.mean(x)\n",
    "    return a,b\n"
   ]
  },
  {
   "cell_type": "code",
   "execution_count": 133,
   "id": "4eb45774",
   "metadata": {},
   "outputs": [],
   "source": [
    "# données generer par le modèle\n",
    "#def predict(x,y):\n",
    "#   a, b = fit(x,y)\n",
    "#  return np.array([[x[i], a*x[i]+b] for i in range(len(x))])\n",
    "\n",
    "def predict(x,a,b):\n",
    "   return a*x+b\n",
    "    "
   ]
  },
  {
   "cell_type": "code",
   "execution_count": 138,
   "id": "a7045b57",
   "metadata": {},
   "outputs": [
    {
     "data": {
      "image/png": "[encoded data removed]",
      "text/plain": [
       "<Figure size 432x288 with 1 Axes>"
      ]
     },
     "metadata": {
      "needs_background": "light"
     },
     "output_type": "display_data"
    }
   ],
   "source": [
    "a,b = fit(x,y)\n",
    "y2 = predict(x,a,b)\n",
    "plt.plot(x,y2, color=\"b\")\n",
    "plt.scatter(x,y, color=\"red\")\n",
    "plt.show()\n",
    "\n"
   ]
  },
  {
   "cell_type": "code",
   "execution_count": null,
   "id": "df608ee6",
   "metadata": {},
   "outputs": [],
   "source": [
    "# densité de probabailité ?\n"
   ]
  },
  {
   "cell_type": "code",
   "execution_count": null,
   "id": "06c713e5",
   "metadata": {},
   "outputs": [],
   "source": []
  }
 ],
 "metadata": {
  "kernelspec": {
   "display_name": "Python 3 (ipykernel)",
   "language": "python",
   "name": "python3"
  },
  "language_info": {
   "codemirror_mode": {
    "name": "ipython",
    "version": 3
   },
   "file_extension": ".py",
   "mimetype": "text/x-python",
   "name": "python",
   "nbconvert_exporter": "python",
   "pygments_lexer": "ipython3",
   "version": "3.9.7"
  }
 },
 "nbformat": 4,
 "nbformat_minor": 5
}
